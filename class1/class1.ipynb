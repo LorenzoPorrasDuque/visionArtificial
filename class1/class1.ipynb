{
 "cells": [
  {
   "cell_type": "code",
   "execution_count": 15,
   "id": "0cc2dfff",
   "metadata": {},
   "outputs": [
    {
     "name": "stdout",
     "output_type": "stream",
     "text": [
      "Requirement already satisfied: numpy in /home/anime/Desktop/visionArtificial/.venv/lib/python3.13/site-packages (2.2.6)\n",
      "Requirement already satisfied: pandas in /home/anime/Desktop/visionArtificial/.venv/lib/python3.13/site-packages (2.3.1)\n",
      "Requirement already satisfied: matplotlib in /home/anime/Desktop/visionArtificial/.venv/lib/python3.13/site-packages (3.10.3)\n",
      "Requirement already satisfied: scikit-learn in /home/anime/Desktop/visionArtificial/.venv/lib/python3.13/site-packages (1.7.1)\n",
      "Requirement already satisfied: python-dateutil>=2.8.2 in /home/anime/Desktop/visionArtificial/.venv/lib/python3.13/site-packages (from pandas) (2.9.0.post0)\n",
      "Requirement already satisfied: pytz>=2020.1 in /home/anime/Desktop/visionArtificial/.venv/lib/python3.13/site-packages (from pandas) (2025.2)\n",
      "Requirement already satisfied: tzdata>=2022.7 in /home/anime/Desktop/visionArtificial/.venv/lib/python3.13/site-packages (from pandas) (2025.2)\n",
      "Requirement already satisfied: contourpy>=1.0.1 in /home/anime/Desktop/visionArtificial/.venv/lib/python3.13/site-packages (from matplotlib) (1.3.2)\n",
      "Requirement already satisfied: cycler>=0.10 in /home/anime/Desktop/visionArtificial/.venv/lib/python3.13/site-packages (from matplotlib) (0.12.1)\n",
      "Requirement already satisfied: fonttools>=4.22.0 in /home/anime/Desktop/visionArtificial/.venv/lib/python3.13/site-packages (from matplotlib) (4.59.0)\n",
      "Requirement already satisfied: kiwisolver>=1.3.1 in /home/anime/Desktop/visionArtificial/.venv/lib/python3.13/site-packages (from matplotlib) (1.4.8)\n",
      "Requirement already satisfied: packaging>=20.0 in /home/anime/Desktop/visionArtificial/.venv/lib/python3.13/site-packages (from matplotlib) (25.0)\n",
      "Requirement already satisfied: pillow>=8 in /home/anime/Desktop/visionArtificial/.venv/lib/python3.13/site-packages (from matplotlib) (11.3.0)\n",
      "Requirement already satisfied: pyparsing>=2.3.1 in /home/anime/Desktop/visionArtificial/.venv/lib/python3.13/site-packages (from matplotlib) (3.2.3)\n",
      "Requirement already satisfied: scipy>=1.8.0 in /home/anime/Desktop/visionArtificial/.venv/lib/python3.13/site-packages (from scikit-learn) (1.16.0)\n",
      "Requirement already satisfied: joblib>=1.2.0 in /home/anime/Desktop/visionArtificial/.venv/lib/python3.13/site-packages (from scikit-learn) (1.5.1)\n",
      "Requirement already satisfied: threadpoolctl>=3.1.0 in /home/anime/Desktop/visionArtificial/.venv/lib/python3.13/site-packages (from scikit-learn) (3.6.0)\n",
      "Requirement already satisfied: six>=1.5 in /home/anime/Desktop/visionArtificial/.venv/lib/python3.13/site-packages (from python-dateutil>=2.8.2->pandas) (1.17.0)\n",
      "Requirement already satisfied: opencv-python in /home/anime/Desktop/visionArtificial/.venv/lib/python3.13/site-packages (4.12.0.88)\n",
      "Requirement already satisfied: numpy<2.3.0,>=2 in /home/anime/Desktop/visionArtificial/.venv/lib/python3.13/site-packages (from opencv-python) (2.2.6)\n"
     ]
    }
   ],
   "source": [
    "!pip install numpy pandas matplotlib  scikit-learn\n",
    "!pip install opencv-python"
   ]
  },
  {
   "cell_type": "code",
   "execution_count": 16,
   "id": "4faa64bf",
   "metadata": {},
   "outputs": [],
   "source": [
    "import cv2"
   ]
  },
  {
   "cell_type": "code",
   "execution_count": 17,
   "id": "9636b4c2",
   "metadata": {},
   "outputs": [],
   "source": [
    "def read_image(image_path):\n",
    "    imagebgr = cv2.imread(image_path,1)\n",
    "    imageGray=cv2.imread(image_path,0)\n",
    "    return imagebgr, imageGray"
   ]
  },
  {
   "cell_type": "code",
   "execution_count": 18,
   "id": "018983ce",
   "metadata": {},
   "outputs": [],
   "source": [
    "def show_image(image, title=\"Image\"):\n",
    "    cv2.imshow(title, image)\n",
    "    cv2.waitKey(0)\n",
    "    cv2.destroyAllWindows()"
   ]
  },
  {
   "cell_type": "code",
   "execution_count": 19,
   "id": "be4b7f69",
   "metadata": {},
   "outputs": [],
   "source": [
    "def rezize_image(image):\n",
    "    height, width = 300, 300\n",
    "    return cv2.resize(image, (width, height))"
   ]
  },
  {
   "cell_type": "code",
   "execution_count": 20,
   "id": "a4dc23df",
   "metadata": {},
   "outputs": [],
   "source": [
    "def getpPixelValue(image, x, y):\n",
    "    if x < 0 or y < 0 or x >= image.shape[0] or y >= image.shape[1]:\n",
    "        raise ValueError(\"Coordinates are out of bounds\")\n",
    "    return image[x][y]"
   ]
  },
  {
   "cell_type": "code",
   "execution_count": 21,
   "id": "25ea0696",
   "metadata": {},
   "outputs": [],
   "source": [
    "def gray_image(image):\n",
    "    for i in range(image.shape[0]):\n",
    "        for j in range(image.shape[1]):\n",
    "            if getpPixelValue(image, i, j) < 128:\n",
    "                image[i][j] = 0\n",
    "            else:\n",
    "                image[i][j] = 255\n",
    "    return image"
   ]
  },
  {
   "cell_type": "code",
   "execution_count": 22,
   "id": "e7092c78",
   "metadata": {},
   "outputs": [],
   "source": [
    "def changeBr (image):\n",
    "    for i in range(image.shape[0]):\n",
    "        for j in range(image.shape[1]):\n",
    "            valores = getpPixelValue(image,i,j)\n",
    "            b=valores[0]\n",
    "            g=valores[1]\n",
    "            r=valores[2]\n",
    "            image[i][j] = [r,g,b]\n",
    "    return image\n"
   ]
  },
  {
   "cell_type": "code",
   "execution_count": 23,
   "id": "b377219f",
   "metadata": {},
   "outputs": [],
   "source": [
    "def changeAllToBlue(image):\n",
    "    for i in range(image.shape[0]):\n",
    "        for j in range(image.shape[1]):\n",
    "            valores = getpPixelValue(image,i,j)\n",
    "            b=valores[0]\n",
    "            g=valores[1]\n",
    "            r=valores[2]\n",
    "            image[i][j] = [255, g, r]\n",
    "    return image"
   ]
  },
  {
   "cell_type": "code",
   "execution_count": 24,
   "id": "c7f1556c",
   "metadata": {},
   "outputs": [],
   "source": [
    "def changeAllToGreen(image):\n",
    "    for i in range(image.shape[0]):\n",
    "        for j in range(image.shape[1]):\n",
    "            valores = getpPixelValue(image,i,j)\n",
    "            b=valores[0]\n",
    "            g=valores[1]\n",
    "            r=valores[2]\n",
    "            image[i][j] = [b, 255, r]\n",
    "    return image"
   ]
  },
  {
   "cell_type": "code",
   "execution_count": 25,
   "id": "39dd0146",
   "metadata": {},
   "outputs": [],
   "source": [
    "def changeAllToRed(image):\n",
    "    for i in range(image.shape[0]):\n",
    "        for j in range(image.shape[1]):\n",
    "            valores = getpPixelValue(image,i,j)\n",
    "            b=valores[0]\n",
    "            g=valores[1]\n",
    "            r=valores[2]\n",
    "            image[i][j] = [b, g, 255]\n",
    "    return image"
   ]
  },
  {
   "cell_type": "code",
   "execution_count": 26,
   "id": "2686a409",
   "metadata": {},
   "outputs": [],
   "source": [
    "# Invert image only along the x-axis (vertical flip)\n",
    "def invertImage(image):\n",
    "    newimage = image.copy()\n",
    "    rows, cols = image.shape[0], image.shape[1]\n",
    "    for i in range(rows):\n",
    "        for j in range(cols):\n",
    "            newimage[i][j] = image[i][cols - 1 - j]\n",
    "    return newimage\n"
   ]
  },
  {
   "cell_type": "code",
   "execution_count": 27,
   "id": "7e0af0fa",
   "metadata": {
    "vscode": {
     "languageId": "ruby"
    }
   },
   "outputs": [],
   "source": [
    "# The zones will be: Top-left (normal), Top-right (blue), Bottom-left (green), Bottom-right (red)\n",
    "def createzone(image):\n",
    "    h, w = image.shape[0], image.shape[1]\n",
    "    zone_h = h // 2\n",
    "    zone_w = w // 2\n",
    "    new_image = image.copy()\n",
    "\n",
    "    # Top-left: Normal (unchanged)\n",
    "    # Top-right: Blue channel maxed\n",
    "    new_image[:zone_h, zone_w:, 0] = 255\n",
    "\n",
    "    # Bottom-left: Green channel maxed\n",
    "    new_image[zone_h:, :zone_w, 1] = 255\n",
    "\n",
    "    # Bottom-right: Red channel maxed\n",
    "    new_image[zone_h:, zone_w:, 2] = 255\n",
    "\n",
    "    return new_image"
   ]
  },
  {
   "cell_type": "code",
   "execution_count": 28,
   "id": "8fcb25ef",
   "metadata": {},
   "outputs": [],
   "source": [
    "def main():\n",
    "    image_path = \"./images/image1.png\"\n",
    "    imagebgr, imageGray = read_image(image_path)\n",
    "    show_image(imagebgr, \"Original BGR Image\")\n",
    "\n",
    "    imageGray = gray_image(imageGray.copy())\n",
    "    imagergb=changeBr(imagebgr.copy())\n",
    "    show_image(imagergb, \"BGR Image\")\n",
    "    show_image(imageGray, \"Grayscale Image\")\n",
    "\n",
    "    #BGR\n",
    "    imagebgr1 = changeAllToBlue(imagebgr.copy())\n",
    "    show_image(imagebgr1, \"Blue Image\")\n",
    "    imagebgr2 = changeAllToGreen(imagebgr.copy())\n",
    "    show_image(imagebgr2, \"Green Image\")\n",
    "    imagebgr3 = changeAllToRed(imagebgr.copy())\n",
    "    show_image(imagebgr3, \"Red Image\")\n",
    "\n",
    "    # invert image\n",
    "    imageInverted = invertImage(imagebgr.copy())\n",
    "    show_image(imageInverted, \"Inverted Image\")\n",
    "\n",
    "    # zones\n",
    "    imageZones = createzone(imagebgr.copy())\n",
    "    show_image(imageZones, \"Four Zones Image\")\n",
    "    \n",
    "\n",
    "main()"
   ]
  }
 ],
 "metadata": {
  "kernelspec": {
   "display_name": ".venv",
   "language": "python",
   "name": "python3"
  },
  "language_info": {
   "codemirror_mode": {
    "name": "ipython",
    "version": 3
   },
   "file_extension": ".py",
   "mimetype": "text/x-python",
   "name": "python",
   "nbconvert_exporter": "python",
   "pygments_lexer": "ipython3",
   "version": "3.13.5"
  }
 },
 "nbformat": 4,
 "nbformat_minor": 5
}
